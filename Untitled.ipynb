{
 "cells": [
  {
   "cell_type": "code",
   "execution_count": 1,
   "id": "40fa345c-3c46-4a50-ab7e-5c3a91cc1982",
   "metadata": {},
   "outputs": [],
   "source": [
    "from src import genius_scrape"
   ]
  },
  {
   "cell_type": "code",
   "execution_count": 2,
   "id": "98dccb8a-153b-46f8-9049-4e9faa16d605",
   "metadata": {},
   "outputs": [],
   "source": [
    "def album_clean_titles(album_list):\n",
    "    \"\"\"Formats album titles in given list for Genius URLs.\"\"\"\n",
    "    cleaned = []\n",
    "    for title in album_list:\n",
    "        title = re.sub(r'[^\\w\\s]|\\s-|\\'','', title)\n",
    "        title = re.sub(r'\\s', '-', title)\n",
    "        cleaned.append(title)\n",
    "    return cleaned"
   ]
  },
  {
   "cell_type": "code",
   "execution_count": 3,
   "id": "71d8b19c-173b-4051-b4ce-debccd1953a6",
   "metadata": {},
   "outputs": [
    {
     "data": {
      "text/plain": [
       "['THE-TORTURED-POETS-DEPARTMENT-THE-ANTHOLOGY']"
      ]
     },
     "execution_count": 3,
     "metadata": {},
     "output_type": "execute_result"
    }
   ],
   "source": [
    "genius_scrape.album_clean_titles(['THE TORTURED POETS DEPARTMENT: THE ANTHOLOGY'])\n"
   ]
  },
  {
   "cell_type": "code",
   "execution_count": 4,
   "id": "939b60b7-f335-485b-be27-b956ce8f2d4f",
   "metadata": {},
   "outputs": [],
   "source": [
    "import pandas as pd\n",
    "\n",
    "df = pd.read_pickle('data/taylor_swift_clean.pkl')"
   ]
  },
  {
   "cell_type": "code",
   "execution_count": 5,
   "id": "8a1a28f2-b1d8-445c-896a-1b9bab82a6d0",
   "metadata": {},
   "outputs": [
    {
     "data": {
      "text/plain": [
       "category\n",
       "Non-Album Songs                  32\n",
       "The Tortured Poets Department    31\n",
       "Red (TV)                         30\n",
       "Fearless (TV)                    25\n",
       "Midnights                        24\n",
       "1989 (TV)                        23\n",
       "Speak Now (TV)                   22\n",
       "Red                              20\n",
       "Lover                            19\n",
       "Speak Now                        18\n",
       "Fearless                         18\n",
       "1989                             17\n",
       "folklore                         17\n",
       "evermore                         17\n",
       "Taylor Swift                     15\n",
       "reputation                       15\n",
       "Other Artist Songs               15\n",
       "Name: count, dtype: int64"
      ]
     },
     "execution_count": 5,
     "metadata": {},
     "output_type": "execute_result"
    }
   ],
   "source": [
    "df['category'].value_counts()"
   ]
  },
  {
   "cell_type": "code",
   "execution_count": 6,
   "id": "fae8e390-9ec0-41d7-930f-b0c88e6a1231",
   "metadata": {},
   "outputs": [],
   "source": [
    "def abbreviate_ttpd(df_column):\n",
    "    df_column = df_column.replace('The Tortured Poets Department', 'TTPD', inplace=True)\n",
    "    return df_column"
   ]
  },
  {
   "cell_type": "code",
   "execution_count": 7,
   "id": "aa0a24e0-481b-4f0d-933f-59d3c1eabee7",
   "metadata": {},
   "outputs": [
    {
     "data": {
      "text/plain": [
       "['THE-TORTURED-POETS-DEPARTMENT-THE-ANTHOLOGY']"
      ]
     },
     "execution_count": 7,
     "metadata": {},
     "output_type": "execute_result"
    }
   ],
   "source": [
    "genius_scrape.album_clean_titles(['THE TORTURED POETS DEPARTMENT: THE ANTHOLOGY'])\n"
   ]
  },
  {
   "cell_type": "code",
   "execution_count": 8,
   "id": "b61b9acd-a0eb-4e3a-83e8-38624ca43888",
   "metadata": {},
   "outputs": [],
   "source": [
    "abbreviate_ttpd(df['category'])"
   ]
  },
  {
   "cell_type": "code",
   "execution_count": 9,
   "id": "5b84bd30-da4f-4a1b-a443-8d28e4d09474",
   "metadata": {},
   "outputs": [
    {
     "data": {
      "text/plain": [
       "category\n",
       "Non-Album Songs       32\n",
       "TTPD                  31\n",
       "Red (TV)              30\n",
       "Fearless (TV)         25\n",
       "Midnights             24\n",
       "1989 (TV)             23\n",
       "Speak Now (TV)        22\n",
       "Red                   20\n",
       "Lover                 19\n",
       "Speak Now             18\n",
       "Fearless              18\n",
       "1989                  17\n",
       "folklore              17\n",
       "evermore              17\n",
       "Taylor Swift          15\n",
       "reputation            15\n",
       "Other Artist Songs    15\n",
       "Name: count, dtype: int64"
      ]
     },
     "execution_count": 9,
     "metadata": {},
     "output_type": "execute_result"
    }
   ],
   "source": [
    "df['category'].value_counts()"
   ]
  },
  {
   "cell_type": "code",
   "execution_count": 11,
   "id": "dcb746fe-2ab9-445c-a86d-8d906c56fbdd",
   "metadata": {},
   "outputs": [],
   "source": [
    "df.to_csv('data/kaggle/ts_discography_released.csv', index=False)"
   ]
  },
  {
   "cell_type": "code",
   "execution_count": null,
   "id": "3aa470fb-3684-469f-9d22-531b24d13a2c",
   "metadata": {},
   "outputs": [],
   "source": []
  }
 ],
 "metadata": {
  "kernelspec": {
   "display_name": "Python 3 (ipykernel)",
   "language": "python",
   "name": "python3"
  },
  "language_info": {
   "codemirror_mode": {
    "name": "ipython",
    "version": 3
   },
   "file_extension": ".py",
   "mimetype": "text/x-python",
   "name": "python",
   "nbconvert_exporter": "python",
   "pygments_lexer": "ipython3",
   "version": "3.12.2"
  }
 },
 "nbformat": 4,
 "nbformat_minor": 5
}
