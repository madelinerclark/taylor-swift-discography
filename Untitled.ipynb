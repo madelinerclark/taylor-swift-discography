{
 "cells": [
  {
   "cell_type": "code",
   "execution_count": 1,
   "id": "a579e638-2b1c-4620-b842-46074adc4bc2",
   "metadata": {},
   "outputs": [],
   "source": [
    "import toml"
   ]
  },
  {
   "cell_type": "code",
   "execution_count": 11,
   "id": "94fb1dc1-661c-4e8e-a0b2-14203b291a0b",
   "metadata": {},
   "outputs": [],
   "source": [
    "data=toml.load('.streamlit/config.toml')"
   ]
  },
  {
   "cell_type": "code",
   "execution_count": 19,
   "id": "1e783760-9ab2-4dc1-9bac-b98015ca0016",
   "metadata": {},
   "outputs": [],
   "source": [
    "palettes = {'Taylor Swift':\n",
    "             {'primaryColor': '#1A482B', \n",
    "              'backgroundColor': '#4F7535', \n",
    "              'secondaryBackgroundColor': '#BDD6B9', \n",
    "              'textColor': '#002212'},\n",
    "             'Fearless':\n",
    "             {'primaryColor': '#74522D', \n",
    "              'backgroundColor': '#C59E5B', \n",
    "              'secondaryBackgroundColor': '#F6CE92', \n",
    "              'textColor': '#422C1A'},\n",
    "             'Speak Now':\n",
    "             {'primaryColor': '#622A69', \n",
    "              'backgroundColor': '#A0679E', \n",
    "              'secondaryBackgroundColor': '#CFB4D5', \n",
    "              'textColor': '#301A3E'},                 \n",
    "             'Red':\n",
    "             {'primaryColor': '#5C1302', \n",
    "              'backgroundColor': '#B2525E', \n",
    "              'secondaryBackgroundColor': '#C1B09C', \n",
    "              'textColor': '#1F0300'},\n",
    "             '1989':\n",
    "             {'primaryColor': '#778EB4', \n",
    "              'backgroundColor': '#BFE7F7', \n",
    "              'secondaryBackgroundColor': '#DEDAD0', \n",
    "              'textColor': '#4F516B'},\n",
    "             'reputation':\n",
    "             {'primaryColor': '#676767', \n",
    "              'backgroundColor': '#A09C9D', \n",
    "              'secondaryBackgroundColor': '#C0C0C0', \n",
    "              'textColor': '#161616'},\n",
    "             'Lover':\n",
    "             {'primaryColor': '#C19DBF', \n",
    "              'backgroundColor': '#F9BAD4', \n",
    "              'secondaryBackgroundColor': '#FEDDE0', \n",
    "              'textColor': '#3E586E'},\n",
    "             'folklore':\n",
    "             {'primaryColor': '#515151', \n",
    "              'backgroundColor': '#898989', \n",
    "              'secondaryBackgroundColor': '#D3D0C9', \n",
    "              'textColor': '#212121'},\n",
    "             'evermore':\n",
    "             {'primaryColor': '#745E41', \n",
    "              'backgroundColor': '#B58B78', \n",
    "              'secondaryBackgroundColor': '#CEB69C', \n",
    "              'textColor': '#453D38'},\n",
    "             'Midnights':\n",
    "             {'primaryColor': '#5F7195', \n",
    "              'backgroundColor': '#B7C6C7', \n",
    "              'secondaryBackgroundColor': '#B7C6C7', \n",
    "              'textColor': '#2E3351'},\n",
    "             'TTPD':\n",
    "             {'primaryColor': '#7D7C78', \n",
    "              'backgroundColor': '#BAB09F', \n",
    "              'secondaryBackgroundColor': '#EDECE8', \n",
    "              'textColor': '#3A3633'}                 \n",
    "            }"
   ]
  },
  {
   "cell_type": "code",
   "execution_count": 28,
   "id": "a026d812-2311-4aad-ab3d-bbfe0df081e4",
   "metadata": {},
   "outputs": [
    {
     "name": "stdout",
     "output_type": "stream",
     "text": [
      "{'theme': {'primaryColor': '#1A482B', 'backgroundColor': '#4F7535', 'secondaryBackgroundColor': '#BDD6B9', 'textColor': '#002212', 'font': 'sans serif'}}\n"
     ]
    }
   ],
   "source": [
    "def change_values(data, album):\n",
    "    color = data['theme']\n",
    "    new = palettes[album]\n",
    "    color['primaryColor'] = new['primaryColor']\n",
    "    color['backgroundColor'] = new['backgroundColor']\n",
    "    color['secondaryBackgroundColor'] = new['secondaryBackgroundColor']\n",
    "    color['textColor'] = new['textColor']\n",
    "    return data\n"
   ]
  },
  {
   "cell_type": "code",
   "execution_count": 26,
   "id": "f257933a-f407-4a44-bcee-e8ac1837b2a6",
   "metadata": {},
   "outputs": [
    {
     "name": "stdout",
     "output_type": "stream",
     "text": [
      "#7D7C78\n",
      "{'primaryColor': '#7D7C78', 'backgroundColor': '#BAB09F', 'secondaryBackgroundColor': '#EDECE8', 'textColor': '#3A3633', 'font': 'sans serif'} <class 'dict'>\n"
     ]
    }
   ],
   "source": [
    "print(data['theme']['primaryColor'])\n",
    "\n",
    "print(data['theme'], type(data['theme']))"
   ]
  },
  {
   "cell_type": "code",
   "execution_count": 31,
   "id": "24c6d92b-1c1d-4fb0-919b-2bb0f9c2be04",
   "metadata": {},
   "outputs": [],
   "source": [
    "def change_theme(option):\n",
    "    data = toml.load('.streamlit/config.toml')\n",
    "    \n",
    "    if option == 'Taylor Swift':\n",
    "        new_theme = change_values(data, 'Taylor Swift')\n",
    "    elif option == 'Fearless':\n",
    "        new_theme = change_values(data, 'Fearless')\n",
    "    elif option == 'Speak Now':\n",
    "        new_theme = change_values(data, 'Speak Now')\n",
    "    elif option == 'Red':\n",
    "        new_theme = change_values(data, 'Red')\n",
    "    elif option == '1989':\n",
    "        new_theme = change_values(data, '1989')\n",
    "    elif option == 'reputation':\n",
    "        new_theme = change_values(data, 'reputation')\n",
    "    elif option == 'Lover':\n",
    "        new_theme = change_values(data, 'Lover')\n",
    "    elif option == 'folklore':\n",
    "        new_theme = change_values(data, 'folklore')\n",
    "    elif option == 'evermore':\n",
    "        new_theme = change_values(data, 'evermore')\n",
    "    elif option == 'Midnights':\n",
    "        new_theme = change_values(data, 'Midnights')\n",
    "    else:\n",
    "        new_theme = change_values(data, 'Midnights')\n",
    "\n",
    "    with open('.streamlit/config.toml', 'w') as file:\n",
    "        toml.dump(new_theme,file)"
   ]
  },
  {
   "cell_type": "code",
   "execution_count": 35,
   "id": "93cf82e6-a515-4b2f-ac5d-4aef8d342ab4",
   "metadata": {},
   "outputs": [],
   "source": [
    "change_theme('TTPD')"
   ]
  },
  {
   "cell_type": "code",
   "execution_count": 5,
   "id": "e0366683-5466-44cb-bde9-f0785d2b5b03",
   "metadata": {},
   "outputs": [
    {
     "data": {
      "text/plain": [
       "Text(0, 0.5, 'Day of Month')"
      ]
     },
     "execution_count": 5,
     "metadata": {},
     "output_type": "execute_result"
    }
   ],
   "source": [
    "\n",
    "\n",
    "custom_params, df, x_values, y_values, size_values, title, x_label, y_label, table_bool, table_df = custom_params, month_day, 'month', 'day', 'count', 'Most Frequent Release Dates', 'Month', 'Day of Month',  True, dates\n",
    "\n",
    "sns.set_theme(style='white')\n",
    "fig, ax = plt.subplots(figsize=(7, 5))\n",
    "fig.patch.set_facecolor('#EDECE8')\n",
    "sns.scatterplot(df, x=x_values, y=y_values, size=size_values, hue=size_values, \n",
    "                palette='autumn_r', edgecolor='#0d1b2a', marker='h', legend=False)\n",
    "ax.set_title(title, fontweight='bold', fontsize='large', x=0.75)\n",
    "ax.set_xlabel(x_label, fontweight='bold', fontsize='medium',\n",
    "       labelpad=5.5)\n",
    "ax.set_ylabel(y_label, fontweight='bold', fontsize='medium', \n",
    "           labelpad=5.5)"
   ]
  },
  {
   "cell_type": "code",
   "execution_count": 1,
   "id": "f4a539de-152d-4235-9a22-a9e07d2034a0",
   "metadata": {},
   "outputs": [],
   "source": [
    "import pandas as pd\n",
    "import streamlit as st\n",
    "import sqlite3 as sql\n",
    "from matplotlib import rcParams\n",
    "\n",
    "from src import charts\n",
    "from src import toolkit\n",
    "\n",
    "import matplotlib.pyplot as plt\n",
    "import seaborn as sns\n",
    "from matplotlib.font_manager import FontProperties"
   ]
  },
  {
   "cell_type": "code",
   "execution_count": 2,
   "id": "c4c66ad0-1c5b-4880-9676-5030fce8e8f2",
   "metadata": {},
   "outputs": [],
   "source": [
    "connection = sql.connect('data/taylor_swift.db')\n",
    "cursor = connection.cursor()\n",
    "\n",
    "# Creating temporary table to be used throughout\n",
    "temp_table = toolkit.sql_to_string('release_temp_table.sql')\n",
    "cursor.executescript(temp_table)\n",
    "\n",
    "custom_params = {'ytick.left': True, \n",
    "                 'xtick.bottom': True}\n",
    "\n",
    "month_day_distribution = toolkit.sql_to_string('month_day_distribution.sql')\n",
    "month_day = pd.read_sql(month_day_distribution, connection)\n",
    "dates = month_day.sort_values(by=['count'], ascending=False)\n",
    "dates = dates[['date', 'count']].head(10)"
   ]
  },
  {
   "cell_type": "code",
   "execution_count": 39,
   "id": "bc742998-529d-4de5-921d-833388343f66",
   "metadata": {},
   "outputs": [
    {
     "data": {
      "text/plain": [
       "<sqlite3.Cursor at 0x7f7299593940>"
      ]
     },
     "execution_count": 39,
     "metadata": {},
     "output_type": "execute_result"
    }
   ],
   "source": []
  }
 ],
 "metadata": {
  "kernelspec": {
   "display_name": "Python 3 (ipykernel)",
   "language": "python",
   "name": "python3"
  },
  "language_info": {
   "codemirror_mode": {
    "name": "ipython",
    "version": 3
   },
   "file_extension": ".py",
   "mimetype": "text/x-python",
   "name": "python",
   "nbconvert_exporter": "python",
   "pygments_lexer": "ipython3",
   "version": "3.12.2"
  }
 },
 "nbformat": 4,
 "nbformat_minor": 5
}
